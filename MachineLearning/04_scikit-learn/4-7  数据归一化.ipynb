{
 "cells": [
  {
   "cell_type": "markdown",
   "metadata": {},
   "source": [
    "## 数据归一化处理"
   ]
  },
  {
   "cell_type": "code",
   "execution_count": 1,
   "metadata": {},
   "outputs": [],
   "source": [
    "import numpy as np\n",
    "import matplotlib.pyplot as plt "
   ]
  },
  {
   "cell_type": "markdown",
   "metadata": {},
   "source": [
    "### 最值归一化 Normalization  适合于有明显边界的数据集"
   ]
  },
  {
   "cell_type": "code",
   "execution_count": 2,
   "metadata": {},
   "outputs": [],
   "source": [
    "x = np.random.randint(0, 100, size=100)"
   ]
  },
  {
   "cell_type": "code",
   "execution_count": 3,
   "metadata": {},
   "outputs": [
    {
     "data": {
      "text/plain": [
       "array([37, 56, 53, 69, 51, 19, 70, 46, 94, 87, 23, 95, 34, 66,  8, 20, 70,\n",
       "       77, 86, 48, 55, 45, 15, 70, 15, 35, 31, 94, 38, 94, 89,  0, 13, 74,\n",
       "       50, 11, 46, 65, 92,  4, 64, 71, 84, 81, 48, 94, 87, 21, 93, 90, 69,\n",
       "       44, 43, 89, 31, 15, 85, 69, 25, 77, 63, 75, 45, 64, 44, 60, 64, 16,\n",
       "       54, 49, 70, 40, 97, 36, 87, 33, 81, 17, 21, 92, 88, 27, 95, 90, 68,\n",
       "        4, 56, 23, 37, 36, 44, 95,  5, 34, 72, 37, 91, 72,  8, 82])"
      ]
     },
     "execution_count": 3,
     "metadata": {},
     "output_type": "execute_result"
    }
   ],
   "source": [
    "x"
   ]
  },
  {
   "cell_type": "code",
   "execution_count": 4,
   "metadata": {},
   "outputs": [
    {
     "data": {
      "text/plain": [
       "array([0.3814433 , 0.57731959, 0.54639175, 0.71134021, 0.5257732 ,\n",
       "       0.19587629, 0.72164948, 0.4742268 , 0.96907216, 0.89690722,\n",
       "       0.2371134 , 0.97938144, 0.35051546, 0.68041237, 0.08247423,\n",
       "       0.20618557, 0.72164948, 0.79381443, 0.88659794, 0.49484536,\n",
       "       0.56701031, 0.46391753, 0.15463918, 0.72164948, 0.15463918,\n",
       "       0.36082474, 0.31958763, 0.96907216, 0.39175258, 0.96907216,\n",
       "       0.91752577, 0.        , 0.13402062, 0.7628866 , 0.51546392,\n",
       "       0.11340206, 0.4742268 , 0.67010309, 0.94845361, 0.04123711,\n",
       "       0.65979381, 0.73195876, 0.86597938, 0.83505155, 0.49484536,\n",
       "       0.96907216, 0.89690722, 0.21649485, 0.95876289, 0.92783505,\n",
       "       0.71134021, 0.45360825, 0.44329897, 0.91752577, 0.31958763,\n",
       "       0.15463918, 0.87628866, 0.71134021, 0.25773196, 0.79381443,\n",
       "       0.64948454, 0.77319588, 0.46391753, 0.65979381, 0.45360825,\n",
       "       0.6185567 , 0.65979381, 0.16494845, 0.55670103, 0.50515464,\n",
       "       0.72164948, 0.41237113, 1.        , 0.37113402, 0.89690722,\n",
       "       0.34020619, 0.83505155, 0.17525773, 0.21649485, 0.94845361,\n",
       "       0.90721649, 0.27835052, 0.97938144, 0.92783505, 0.70103093,\n",
       "       0.04123711, 0.57731959, 0.2371134 , 0.3814433 , 0.37113402,\n",
       "       0.45360825, 0.97938144, 0.05154639, 0.35051546, 0.74226804,\n",
       "       0.3814433 , 0.93814433, 0.74226804, 0.08247423, 0.84536082])"
      ]
     },
     "execution_count": 4,
     "metadata": {},
     "output_type": "execute_result"
    }
   ],
   "source": [
    "(x - min(x)) / (max(x) - min(x))"
   ]
  },
  {
   "cell_type": "code",
   "execution_count": 5,
   "metadata": {},
   "outputs": [],
   "source": [
    "X = np.random.randint(0, 100, (50, 2))"
   ]
  },
  {
   "cell_type": "code",
   "execution_count": 6,
   "metadata": {},
   "outputs": [
    {
     "data": {
      "text/plain": [
       "array([[91, 94],\n",
       "       [58, 75],\n",
       "       [14, 72],\n",
       "       [96, 26],\n",
       "       [73, 78],\n",
       "       [33, 39],\n",
       "       [54, 87],\n",
       "       [59, 48],\n",
       "       [85, 70],\n",
       "       [54, 62]])"
      ]
     },
     "execution_count": 6,
     "metadata": {},
     "output_type": "execute_result"
    }
   ],
   "source": [
    "X[:10, :]"
   ]
  },
  {
   "cell_type": "code",
   "execution_count": 7,
   "metadata": {},
   "outputs": [],
   "source": [
    "X = np.array(X, dtype='float')"
   ]
  },
  {
   "cell_type": "code",
   "execution_count": 8,
   "metadata": {},
   "outputs": [
    {
     "data": {
      "text/plain": [
       "array([[91., 94.],\n",
       "       [58., 75.],\n",
       "       [14., 72.],\n",
       "       [96., 26.],\n",
       "       [73., 78.],\n",
       "       [33., 39.],\n",
       "       [54., 87.],\n",
       "       [59., 48.],\n",
       "       [85., 70.],\n",
       "       [54., 62.]])"
      ]
     },
     "execution_count": 8,
     "metadata": {},
     "output_type": "execute_result"
    }
   ],
   "source": [
    "X[:10, :]"
   ]
  },
  {
   "cell_type": "code",
   "execution_count": 12,
   "metadata": {},
   "outputs": [],
   "source": [
    "for i in range(X.shape[1]):\n",
    "   X[:,i] = (X[:, i] - min(X[:, i])) / (max(X[:, i]) - min(X[:, i]))"
   ]
  },
  {
   "cell_type": "code",
   "execution_count": 13,
   "metadata": {},
   "outputs": [
    {
     "data": {
      "text/plain": [
       "array([[0.91752577, 0.96907216],\n",
       "       [0.57731959, 0.77319588],\n",
       "       [0.12371134, 0.74226804],\n",
       "       [0.96907216, 0.26804124],\n",
       "       [0.73195876, 0.80412371],\n",
       "       [0.31958763, 0.40206186],\n",
       "       [0.53608247, 0.89690722],\n",
       "       [0.58762887, 0.49484536],\n",
       "       [0.8556701 , 0.72164948],\n",
       "       [0.53608247, 0.63917526]])"
      ]
     },
     "execution_count": 13,
     "metadata": {},
     "output_type": "execute_result"
    }
   ],
   "source": [
    "X[:10, :]"
   ]
  },
  {
   "cell_type": "code",
   "execution_count": 14,
   "metadata": {},
   "outputs": [
    {
     "data": {
      "text/plain": [
       "<matplotlib.collections.PathCollection at 0x8cd75f8>"
      ]
     },
     "execution_count": 14,
     "metadata": {},
     "output_type": "execute_result"
    },
    {
     "data": {
      "image/png": "[encoded data removed]",
      "text/plain": [
       "<Figure size 432x288 with 1 Axes>"
      ]
     },
     "metadata": {
      "needs_background": "light"
     },
     "output_type": "display_data"
    }
   ],
   "source": [
    "plt.scatter(X[:,0], X[:, 1])"
   ]
  },
  {
   "cell_type": "code",
   "execution_count": 15,
   "metadata": {},
   "outputs": [
    {
     "data": {
      "text/plain": [
       "0.5183505154639175"
      ]
     },
     "execution_count": 15,
     "metadata": {},
     "output_type": "execute_result"
    }
   ],
   "source": [
    "np.mean(X[:, 0])"
   ]
  },
  {
   "cell_type": "code",
   "execution_count": 16,
   "metadata": {},
   "outputs": [
    {
     "data": {
      "text/plain": [
       "0.25650876748108375"
      ]
     },
     "execution_count": 16,
     "metadata": {},
     "output_type": "execute_result"
    }
   ],
   "source": [
    "np.std(X[:, 0])"
   ]
  },
  {
   "cell_type": "markdown",
   "metadata": {},
   "source": [
    "### 均值方差归一化 Standardization  适用于没有明显边界的数据集，如薪资"
   ]
  },
  {
   "cell_type": "code",
   "execution_count": 35,
   "metadata": {},
   "outputs": [],
   "source": [
    "X2 = np.random.randint(0, 100, size=(50, 2))\n",
    "X2 = np.array(X2, dtype='float')"
   ]
  },
  {
   "cell_type": "code",
   "execution_count": 36,
   "metadata": {},
   "outputs": [
    {
     "data": {
      "text/plain": [
       "array([[45., 56.],\n",
       "       [38., 11.],\n",
       "       [15., 94.],\n",
       "       [50., 74.],\n",
       "       [87., 28.],\n",
       "       [ 2., 93.],\n",
       "       [92., 49.],\n",
       "       [50., 54.],\n",
       "       [26.,  6.],\n",
       "       [ 4., 45.]])"
      ]
     },
     "execution_count": 36,
     "metadata": {},
     "output_type": "execute_result"
    }
   ],
   "source": [
    "X2[:10, :]"
   ]
  },
  {
   "cell_type": "code",
   "execution_count": 37,
   "metadata": {},
   "outputs": [],
   "source": [
    "X2[:, 0] = (X2[:, 0] - np.mean(X2[:, 0])) / np.std(X2[:, 0])  # (X - mean)/std "
   ]
  },
  {
   "cell_type": "code",
   "execution_count": 38,
   "metadata": {},
   "outputs": [],
   "source": [
    "X2[:, 1] = (X2[:, 1] - np.mean(X2[:, 1])) / np.std(X2[:, 1])"
   ]
  },
  {
   "cell_type": "code",
   "execution_count": 39,
   "metadata": {},
   "outputs": [
    {
     "data": {
      "text/plain": [
       "array([[-0.23928851,  0.15239679],\n",
       "       [-0.47193012, -1.33198749],\n",
       "       [-1.23632397,  1.40587684],\n",
       "       [-0.07311593,  0.7461505 ],\n",
       "       [ 1.15656113, -0.7712201 ],\n",
       "       [-1.66837267,  1.37289053],\n",
       "       [ 1.32273371, -0.07850744],\n",
       "       [-0.07311593,  0.08642415],\n",
       "       [-0.8707443 , -1.49691908],\n",
       "       [-1.60190363, -0.2104527 ]])"
      ]
     },
     "execution_count": 39,
     "metadata": {},
     "output_type": "execute_result"
    }
   ],
   "source": [
    "X2[:10, :]"
   ]
  },
  {
   "cell_type": "code",
   "execution_count": 41,
   "metadata": {},
   "outputs": [
    {
     "data": {
      "text/plain": [
       "<matplotlib.collections.PathCollection at 0xa742860>"
      ]
     },
     "execution_count": 41,
     "metadata": {},
     "output_type": "execute_result"
    },
    {
     "data": {
      "image/png": "[encoded data removed]",
      "text/plain": [
       "<Figure size 432x288 with 1 Axes>"
      ]
     },
     "metadata": {
      "needs_background": "light"
     },
     "output_type": "display_data"
    }
   ],
   "source": [
    "plt.scatter(X2[:, 0], X2[:, 1])"
   ]
  },
  {
   "cell_type": "code",
   "execution_count": 42,
   "metadata": {},
   "outputs": [
    {
     "data": {
      "text/plain": [
       "-7.993605777301127e-17"
      ]
     },
     "execution_count": 42,
     "metadata": {},
     "output_type": "execute_result"
    }
   ],
   "source": [
    "np.mean(X2[:, 0])"
   ]
  },
  {
   "cell_type": "code",
   "execution_count": 43,
   "metadata": {},
   "outputs": [
    {
     "data": {
      "text/plain": [
       "1.0"
      ]
     },
     "execution_count": 43,
     "metadata": {},
     "output_type": "execute_result"
    }
   ],
   "source": [
    "np.std(X2[:, 1])"
   ]
  },
  {
   "cell_type": "code",
   "execution_count": null,
   "metadata": {},
   "outputs": [],
   "source": [
    "np.mean()"
   ]
  }
 ],
 "metadata": {
  "kernelspec": {
   "display_name": "Python 3",
   "language": "python",
   "name": "python3"
  },
  "language_info": {
   "codemirror_mode": {
    "name": "ipython",
    "version": 3
   },
   "file_extension": ".py",
   "mimetype": "text/x-python",
   "name": "python",
   "nbconvert_exporter": "python",
   "pygments_lexer": "ipython3",
   "version": "3.7.3"
  }
 },
 "nbformat": 4,
 "nbformat_minor": 2
}
